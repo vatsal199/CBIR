{
  "nbformat": 4,
  "nbformat_minor": 0,
  "metadata": {
    "colab": {
      "name": "query.ipynb",
      "provenance": [],
      "collapsed_sections": []
    },
    "kernelspec": {
      "name": "python3",
      "display_name": "Python 3"
    }
  },
  "cells": [
    {
      "cell_type": "code",
      "metadata": {
        "id": "Lo2zWqgjsCsO",
        "outputId": "4742bd95-571a-4201-97b5-f32f35fd63e5",
        "colab": {
          "base_uri": "https://localhost:8080/",
          "height": 35
        }
      },
      "source": [
        "'''from google.colab import drive\n",
        "drive.mount('/content/drive')'''"
      ],
      "execution_count": null,
      "outputs": [
        {
          "output_type": "execute_result",
          "data": {
            "application/vnd.google.colaboratory.intrinsic+json": {
              "type": "string"
            },
            "text/plain": [
              "\"from google.colab import drive\\ndrive.mount('/content/drive')\""
            ]
          },
          "metadata": {
            "tags": []
          },
          "execution_count": 47
        }
      ]
    },
    {
      "cell_type": "code",
      "metadata": {
        "id": "4lCNpdUWsIK0"
      },
      "source": [
        "import torch\n",
        "from torchvision import datasets, models, transforms\n",
        "import os\n",
        "import glob\n",
        "from PIL import Image\n",
        "import numpy as np\n",
        "import json\n",
        "import torch.nn as nn\n",
        "import torch.nn.functional as F"
      ],
      "execution_count": null,
      "outputs": []
    },
    {
      "cell_type": "code",
      "metadata": {
        "id": "KbRcTPVisjsz"
      },
      "source": [
        "basePath = '/content/'\n",
        "#data_dir = basePath+'Sample'\n",
        "data_dir = basePath+'val2017'\n",
        "\n",
        "topk = 44\n",
        "path = data_dir+'/135/135.png'"
      ],
      "execution_count": null,
      "outputs": []
    },
    {
      "cell_type": "code",
      "metadata": {
        "id": "DPfGU87PsLyw"
      },
      "source": [
        "device = torch.device(\"cuda:0\" if torch.cuda.is_available() else \"cpu\")"
      ],
      "execution_count": null,
      "outputs": []
    },
    {
      "cell_type": "code",
      "metadata": {
        "id": "n9tH3VkFKboz",
        "outputId": "d01f9be2-ef2d-4290-854f-bdfef52f80d0",
        "colab": {
          "base_uri": "https://localhost:8080/",
          "height": 69
        }
      },
      "source": [
        "'''drive_dir = '/content/drive/My Drive/RE/'\n",
        "import zipfile\n",
        "import os\n",
        "for file_name in os.listdir(drive_dir):\n",
        "  if file_name.endswith('.zip'):\n",
        "    with zipfile.ZipFile(drive_dir+file_name,'r') as zip_dir:\n",
        "      zip_dir.extractall(path='/content/')'''"
      ],
      "execution_count": null,
      "outputs": [
        {
          "output_type": "execute_result",
          "data": {
            "application/vnd.google.colaboratory.intrinsic+json": {
              "type": "string"
            },
            "text/plain": [
              "\"drive_dir = '/content/drive/My Drive/RE/'\\nimport zipfile\\nimport os\\nfor file_name in os.listdir(drive_dir):\\n  if file_name.endswith('.zip'):\\n    with zipfile.ZipFile(drive_dir+file_name,'r') as zip_dir:\\n      zip_dir.extractall(path='/content/')\""
            ]
          },
          "metadata": {
            "tags": []
          },
          "execution_count": 51
        }
      ]
    },
    {
      "cell_type": "code",
      "metadata": {
        "id": "M-WXoN9GsPtr"
      },
      "source": [
        "input_size = 224\n",
        "def resize_and_rename(image_dir):\n",
        "    i = 1\n",
        "    files = glob.glob(os.path.join(image_dir, \"*\"))\n",
        "    for file in files:\n",
        "        im = Image.open(file)\n",
        "        f, e = os.path.splitext(file)\n",
        "        imResize = im.resize((input_size,input_size), Image.ANTIALIAS)\n",
        "        os.remove(file)\n",
        "\n",
        "        path = '/'+os.path.join(*f.split('/')[:-1])+'/'+str(i)\n",
        "        if not os.path.exists(path):\n",
        "          os.mkdir(path) \n",
        "        fullPath = os.path.join(path,str(i))\n",
        "        i+=1\n",
        "        imResize.save(fullPath + '.png', 'PNG', quality=90)"
      ],
      "execution_count": null,
      "outputs": []
    },
    {
      "cell_type": "code",
      "metadata": {
        "id": "2LuwWtwcsReM",
        "outputId": "e7450c87-52ba-4b74-899e-5f8e69697b7a",
        "colab": {
          "base_uri": "https://localhost:8080/",
          "height": 52
        }
      },
      "source": [
        "'''!cp -R '/content/drive/My Drive/Sample' '/content/'\n",
        "#!cp -R '/content/drive/My Drive/COVID-19/Dataset_2' '/content/'\n",
        "resize_and_rename(data_dir)'''"
      ],
      "execution_count": null,
      "outputs": [
        {
          "output_type": "execute_result",
          "data": {
            "application/vnd.google.colaboratory.intrinsic+json": {
              "type": "string"
            },
            "text/plain": [
              "\"!cp -R '/content/drive/My Drive/Sample' '/content/'\\n#!cp -R '/content/drive/My Drive/COVID-19/Dataset_2' '/content/'\\nresize_and_rename(data_dir)\""
            ]
          },
          "metadata": {
            "tags": []
          },
          "execution_count": 53
        }
      ]
    },
    {
      "cell_type": "code",
      "metadata": {
        "id": "JUlBX1d9sVM_"
      },
      "source": [
        "def ReLU(X):\n",
        "   return np.maximum(0,X)"
      ],
      "execution_count": null,
      "outputs": []
    },
    {
      "cell_type": "code",
      "metadata": {
        "id": "1zuBy-m2sW1D"
      },
      "source": [
        "def CReLU(f):\n",
        "    f_pos = f\n",
        "    f_neg = -f\n",
        "    final_f = np.concatenate((f_pos, f_neg))\n",
        "    return ReLU(final_f)"
      ],
      "execution_count": null,
      "outputs": []
    },
    {
      "cell_type": "code",
      "metadata": {
        "id": "MkJBJWZrsYxC"
      },
      "source": [
        "def getSurrogateText(F,topK):\n",
        "    surrText = \"\"\n",
        "    count = topK\n",
        "    for ele in F:\n",
        "        instanceText = \"RO\"+str(ele)\n",
        "        instanceText += (\" \"+instanceText)*(count-1)\n",
        "        if len(surrText) == 0:\n",
        "            surrText = instanceText\n",
        "        else:\n",
        "            surrText += (\" \"+instanceText)\n",
        "        count -= 1\n",
        "    return surrText"
      ],
      "execution_count": null,
      "outputs": []
    },
    {
      "cell_type": "code",
      "metadata": {
        "id": "wOjUkE9rsarv"
      },
      "source": [
        "def F2Text(f,topK):\n",
        "    rf = CReLU(f)\n",
        "    perVec = np.argsort(rf)[::-1]+1\n",
        "    invPer = np.argsort(perVec)+1\n",
        "    after_topk = invPer[invPer <= topK]\n",
        "    return getSurrogateText(after_topk,topK)"
      ],
      "execution_count": null,
      "outputs": []
    },
    {
      "cell_type": "code",
      "metadata": {
        "id": "GLMn93rcseP3"
      },
      "source": [
        "class DenseFeatures(nn.Module):\n",
        "    def __init__(self,dense):\n",
        "        super(DenseFeatures, self).__init__()\n",
        "        self.features = nn.Sequential(*list(dense.children())[:-1])\n",
        "        #self.feat_vec = nn.Sequential(*list(dense.children())[2][:-3])\n",
        "        \n",
        "    def forward(self, x):\n",
        "        x = self.features(x)\n",
        "        x = F.relu(x, inplace=True)\n",
        "        x = F.adaptive_avg_pool2d(x, (1, 1))\n",
        "        x = torch.flatten(x, 1)\n",
        "        #x = torch.flatten(x, 1)\n",
        "        #x= self.feat_vec(x)\n",
        "        return x\n",
        "\n",
        "dense = models.densenet121(pretrained=True)\n",
        "model = DenseFeatures(dense)\n",
        "model.eval()\n",
        "model = model.to(device)"
      ],
      "execution_count": null,
      "outputs": []
    },
    {
      "cell_type": "code",
      "metadata": {
        "id": "G9_OWha5smP2"
      },
      "source": [
        "data_transforms = transforms.Compose([\n",
        "            transforms.ToTensor(),\n",
        "            transforms.Normalize([0.485, 0.456, 0.406], [0.229, 0.224, 0.225])\n",
        "        ])"
      ],
      "execution_count": null,
      "outputs": []
    },
    {
      "cell_type": "code",
      "metadata": {
        "id": "w7-ggqWOsrt9",
        "outputId": "7d0ea712-4e2d-4421-e387-cb712e88328a",
        "colab": {
          "base_uri": "https://localhost:8080/"
        }
      },
      "source": [
        "path = '/content/val2017/135/135.png'\n",
        "image = Image.open(path)\n",
        "x = data_transforms(image)\n",
        "x.unsqueeze_(0)\n",
        "x=x.to(device)\n",
        "print(x.shape)"
      ],
      "execution_count": null,
      "outputs": [
        {
          "output_type": "stream",
          "text": [
            "torch.Size([1, 3, 224, 224])\n"
          ],
          "name": "stdout"
        }
      ]
    },
    {
      "cell_type": "code",
      "metadata": {
        "id": "39H8LnOMst1x",
        "outputId": "ef1c3187-ed2a-4d26-8184-a2da1a7e3c21",
        "colab": {
          "base_uri": "https://localhost:8080/"
        }
      },
      "source": [
        "#print(path)\n",
        "#print(x)\n",
        "output = model(x).cpu().detach().numpy()\n",
        "#print(output)\n",
        "surrText = F2Text(output[0],topk)\n",
        "print(surrText)"
      ],
      "execution_count": null,
      "outputs": [
        {
          "output_type": "stream",
          "text": [
            "RO25 RO25 RO25 RO25 RO25 RO25 RO25 RO25 RO25 RO25 RO25 RO25 RO25 RO25 RO25 RO25 RO25 RO25 RO25 RO25 RO25 RO25 RO25 RO25 RO25 RO25 RO25 RO25 RO25 RO25 RO25 RO25 RO25 RO25 RO25 RO25 RO25 RO25 RO25 RO25 RO25 RO25 RO25 RO25 RO35 RO35 RO35 RO35 RO35 RO35 RO35 RO35 RO35 RO35 RO35 RO35 RO35 RO35 RO35 RO35 RO35 RO35 RO35 RO35 RO35 RO35 RO35 RO35 RO35 RO35 RO35 RO35 RO35 RO35 RO35 RO35 RO35 RO35 RO35 RO35 RO35 RO35 RO35 RO35 RO35 RO35 RO35 RO37 RO37 RO37 RO37 RO37 RO37 RO37 RO37 RO37 RO37 RO37 RO37 RO37 RO37 RO37 RO37 RO37 RO37 RO37 RO37 RO37 RO37 RO37 RO37 RO37 RO37 RO37 RO37 RO37 RO37 RO37 RO37 RO37 RO37 RO37 RO37 RO37 RO37 RO37 RO37 RO37 RO37 RO43 RO43 RO43 RO43 RO43 RO43 RO43 RO43 RO43 RO43 RO43 RO43 RO43 RO43 RO43 RO43 RO43 RO43 RO43 RO43 RO43 RO43 RO43 RO43 RO43 RO43 RO43 RO43 RO43 RO43 RO43 RO43 RO43 RO43 RO43 RO43 RO43 RO43 RO43 RO43 RO43 RO38 RO38 RO38 RO38 RO38 RO38 RO38 RO38 RO38 RO38 RO38 RO38 RO38 RO38 RO38 RO38 RO38 RO38 RO38 RO38 RO38 RO38 RO38 RO38 RO38 RO38 RO38 RO38 RO38 RO38 RO38 RO38 RO38 RO38 RO38 RO38 RO38 RO38 RO38 RO38 RO21 RO21 RO21 RO21 RO21 RO21 RO21 RO21 RO21 RO21 RO21 RO21 RO21 RO21 RO21 RO21 RO21 RO21 RO21 RO21 RO21 RO21 RO21 RO21 RO21 RO21 RO21 RO21 RO21 RO21 RO21 RO21 RO21 RO21 RO21 RO21 RO21 RO21 RO21 RO4 RO4 RO4 RO4 RO4 RO4 RO4 RO4 RO4 RO4 RO4 RO4 RO4 RO4 RO4 RO4 RO4 RO4 RO4 RO4 RO4 RO4 RO4 RO4 RO4 RO4 RO4 RO4 RO4 RO4 RO4 RO4 RO4 RO4 RO4 RO4 RO4 RO4 RO44 RO44 RO44 RO44 RO44 RO44 RO44 RO44 RO44 RO44 RO44 RO44 RO44 RO44 RO44 RO44 RO44 RO44 RO44 RO44 RO44 RO44 RO44 RO44 RO44 RO44 RO44 RO44 RO44 RO44 RO44 RO44 RO44 RO44 RO44 RO44 RO44 RO32 RO32 RO32 RO32 RO32 RO32 RO32 RO32 RO32 RO32 RO32 RO32 RO32 RO32 RO32 RO32 RO32 RO32 RO32 RO32 RO32 RO32 RO32 RO32 RO32 RO32 RO32 RO32 RO32 RO32 RO32 RO32 RO32 RO32 RO32 RO32 RO10 RO10 RO10 RO10 RO10 RO10 RO10 RO10 RO10 RO10 RO10 RO10 RO10 RO10 RO10 RO10 RO10 RO10 RO10 RO10 RO10 RO10 RO10 RO10 RO10 RO10 RO10 RO10 RO10 RO10 RO10 RO10 RO10 RO10 RO10 RO15 RO15 RO15 RO15 RO15 RO15 RO15 RO15 RO15 RO15 RO15 RO15 RO15 RO15 RO15 RO15 RO15 RO15 RO15 RO15 RO15 RO15 RO15 RO15 RO15 RO15 RO15 RO15 RO15 RO15 RO15 RO15 RO15 RO15 RO13 RO13 RO13 RO13 RO13 RO13 RO13 RO13 RO13 RO13 RO13 RO13 RO13 RO13 RO13 RO13 RO13 RO13 RO13 RO13 RO13 RO13 RO13 RO13 RO13 RO13 RO13 RO13 RO13 RO13 RO13 RO13 RO13 RO5 RO5 RO5 RO5 RO5 RO5 RO5 RO5 RO5 RO5 RO5 RO5 RO5 RO5 RO5 RO5 RO5 RO5 RO5 RO5 RO5 RO5 RO5 RO5 RO5 RO5 RO5 RO5 RO5 RO5 RO5 RO5 RO34 RO34 RO34 RO34 RO34 RO34 RO34 RO34 RO34 RO34 RO34 RO34 RO34 RO34 RO34 RO34 RO34 RO34 RO34 RO34 RO34 RO34 RO34 RO34 RO34 RO34 RO34 RO34 RO34 RO34 RO34 RO19 RO19 RO19 RO19 RO19 RO19 RO19 RO19 RO19 RO19 RO19 RO19 RO19 RO19 RO19 RO19 RO19 RO19 RO19 RO19 RO19 RO19 RO19 RO19 RO19 RO19 RO19 RO19 RO19 RO19 RO22 RO22 RO22 RO22 RO22 RO22 RO22 RO22 RO22 RO22 RO22 RO22 RO22 RO22 RO22 RO22 RO22 RO22 RO22 RO22 RO22 RO22 RO22 RO22 RO22 RO22 RO22 RO22 RO22 RO36 RO36 RO36 RO36 RO36 RO36 RO36 RO36 RO36 RO36 RO36 RO36 RO36 RO36 RO36 RO36 RO36 RO36 RO36 RO36 RO36 RO36 RO36 RO36 RO36 RO36 RO36 RO36 RO6 RO6 RO6 RO6 RO6 RO6 RO6 RO6 RO6 RO6 RO6 RO6 RO6 RO6 RO6 RO6 RO6 RO6 RO6 RO6 RO6 RO6 RO6 RO6 RO6 RO6 RO6 RO17 RO17 RO17 RO17 RO17 RO17 RO17 RO17 RO17 RO17 RO17 RO17 RO17 RO17 RO17 RO17 RO17 RO17 RO17 RO17 RO17 RO17 RO17 RO17 RO17 RO17 RO39 RO39 RO39 RO39 RO39 RO39 RO39 RO39 RO39 RO39 RO39 RO39 RO39 RO39 RO39 RO39 RO39 RO39 RO39 RO39 RO39 RO39 RO39 RO39 RO39 RO1 RO1 RO1 RO1 RO1 RO1 RO1 RO1 RO1 RO1 RO1 RO1 RO1 RO1 RO1 RO1 RO1 RO1 RO1 RO1 RO1 RO1 RO1 RO1 RO33 RO33 RO33 RO33 RO33 RO33 RO33 RO33 RO33 RO33 RO33 RO33 RO33 RO33 RO33 RO33 RO33 RO33 RO33 RO33 RO33 RO33 RO33 RO41 RO41 RO41 RO41 RO41 RO41 RO41 RO41 RO41 RO41 RO41 RO41 RO41 RO41 RO41 RO41 RO41 RO41 RO41 RO41 RO41 RO41 RO30 RO30 RO30 RO30 RO30 RO30 RO30 RO30 RO30 RO30 RO30 RO30 RO30 RO30 RO30 RO30 RO30 RO30 RO30 RO30 RO30 RO26 RO26 RO26 RO26 RO26 RO26 RO26 RO26 RO26 RO26 RO26 RO26 RO26 RO26 RO26 RO26 RO26 RO26 RO26 RO26 RO9 RO9 RO9 RO9 RO9 RO9 RO9 RO9 RO9 RO9 RO9 RO9 RO9 RO9 RO9 RO9 RO9 RO9 RO9 RO11 RO11 RO11 RO11 RO11 RO11 RO11 RO11 RO11 RO11 RO11 RO11 RO11 RO11 RO11 RO11 RO11 RO11 RO20 RO20 RO20 RO20 RO20 RO20 RO20 RO20 RO20 RO20 RO20 RO20 RO20 RO20 RO20 RO20 RO20 RO24 RO24 RO24 RO24 RO24 RO24 RO24 RO24 RO24 RO24 RO24 RO24 RO24 RO24 RO24 RO24 RO27 RO27 RO27 RO27 RO27 RO27 RO27 RO27 RO27 RO27 RO27 RO27 RO27 RO27 RO27 RO31 RO31 RO31 RO31 RO31 RO31 RO31 RO31 RO31 RO31 RO31 RO31 RO31 RO31 RO23 RO23 RO23 RO23 RO23 RO23 RO23 RO23 RO23 RO23 RO23 RO23 RO23 RO42 RO42 RO42 RO42 RO42 RO42 RO42 RO42 RO42 RO42 RO42 RO42 RO40 RO40 RO40 RO40 RO40 RO40 RO40 RO40 RO40 RO40 RO40 RO28 RO28 RO28 RO28 RO28 RO28 RO28 RO28 RO28 RO28 RO8 RO8 RO8 RO8 RO8 RO8 RO8 RO8 RO8 RO2 RO2 RO2 RO2 RO2 RO2 RO2 RO2 RO12 RO12 RO12 RO12 RO12 RO12 RO12 RO18 RO18 RO18 RO18 RO18 RO18 RO3 RO3 RO3 RO3 RO3 RO29 RO29 RO29 RO29 RO7 RO7 RO7 RO16 RO16 RO14\n"
          ],
          "name": "stdout"
        }
      ]
    }
  ]
}