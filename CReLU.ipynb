{
  "nbformat": 4,
  "nbformat_minor": 0,
  "metadata": {
    "colab": {
      "name": "CReLU.ipynb",
      "provenance": [],
      "collapsed_sections": []
    },
    "kernelspec": {
      "name": "python3",
      "display_name": "Python 3"
    }
  },
  "cells": [
    {
      "cell_type": "code",
      "metadata": {
        "id": "HWGnigvXUbQm"
      },
      "source": [
        "import numpy as np\n",
        "import json"
      ],
      "execution_count": null,
      "outputs": []
    },
    {
      "cell_type": "code",
      "metadata": {
        "id": "GCJuRZQHOP5N"
      },
      "source": [
        "f = np.asarray([0.1,-0.3,-0.4,0,0.2])\n",
        "#f = np.asarray([[0.1,-0.3,-0.4,0,0.2],[-0.4,0,0.2,0.5,0.6]])\n",
        "#f = np.asarray([0.1,-0.3,-0.4,0,0.2,0.5,0.6])\n",
        "topk = 4\n",
        "filename = 'data.json'"
      ],
      "execution_count": null,
      "outputs": []
    },
    {
      "cell_type": "code",
      "metadata": {
        "id": "RSsZyiQzVI24"
      },
      "source": [
        "def ReLU(X):\n",
        "   return np.maximum(0,X)"
      ],
      "execution_count": null,
      "outputs": []
    },
    {
      "cell_type": "code",
      "metadata": {
        "id": "-ZReDStTaFvc"
      },
      "source": [
        "def CReLU(f):\n",
        "    f_pos = f\n",
        "    f_neg = -f\n",
        "    final_f = np.concatenate((f_pos, f_neg))\n",
        "    return ReLU(final_f)"
      ],
      "execution_count": null,
      "outputs": []
    },
    {
      "cell_type": "code",
      "metadata": {
        "id": "yPuus1uDahjU"
      },
      "source": [
        "def getSurrogateText(F,topK):\n",
        "    surrText = \"\"\n",
        "    count = topK\n",
        "    for ele in F:\n",
        "        instanceText = \"RO\"+str(ele)\n",
        "        instanceText += (\" \"+instanceText)*(count-1)\n",
        "        if len(surrText) == 0:\n",
        "            surrText = instanceText\n",
        "        else:\n",
        "            surrText += (\" \"+instanceText)\n",
        "        count -= 1\n",
        "    return surrText"
      ],
      "execution_count": null,
      "outputs": []
    },
    {
      "cell_type": "code",
      "metadata": {
        "id": "KWY8WwzobyKr"
      },
      "source": [
        "def F2Text(f,topK):\n",
        "    rf = CReLU(f)\n",
        "    perVec = np.argsort(rf)[::-1]+1\n",
        "    invPer = np.argsort(perVec)+1\n",
        "    after_topk = invPer[invPer <= topK]\n",
        "    return getSurrogateText(after_topk,topK)"
      ],
      "execution_count": null,
      "outputs": []
    },
    {
      "cell_type": "code",
      "metadata": {
        "id": "GPbMXgB9cgK8"
      },
      "source": [
        "def getElasticData(fv,topK):\n",
        "    nText = fv.shape[0]\n",
        "    for i in range(nText):\n",
        "        #random.shuffle(li)\n",
        "        surrText = F2Text(fv[i],topK)\n",
        "        data1 = {\"index\":{\"_id\":i+1}}\n",
        "\n",
        "        data2 = {\n",
        "          \"text\": surrText,\n",
        "          \"image\": \"ImagePath_\"+str(i+1),\n",
        "        }\n",
        "\n",
        "        with open(filename,'a') as f: \n",
        "            json.dump(data1, f)\n",
        "            f.write('\\n')\n",
        "            json.dump(data2, f)\n",
        "            f.write('\\n')"
      ],
      "execution_count": null,
      "outputs": []
    },
    {
      "cell_type": "code",
      "metadata": {
        "id": "SwMSjd48d4uj"
      },
      "source": [
        "def genFakeData(nSamples,topK):\n",
        "    # It save generate data in file.\n",
        "    # fire in termina --> file_name: data.json, Index: cbir, type: surrtext. (bulk load in elasticsearch)\n",
        "    # curl -H 'Content-Type: application/x-ndjson' -XPOST 'localhost:9200/cbir/surrtext/_bulk?pretty' --data-binary @data.json\n",
        "\n",
        "    # check in kibana\n",
        "    # GET /_cat/indices\n",
        "    # GET /cbir/surrtext/5\n",
        "\n",
        "    # query:\n",
        "    #GET /cbir/surrtext/_search\n",
        "    #{\n",
        "    #  \"query\":{\n",
        "    #    \"match\":{\n",
        "    #      \"text\":\"RO1 RO1 RO1 RO1 RO1 RO5 RO5 RO5 RO5 RO3 RO3 RO3 RO4 RO4 RO2\"\n",
        "    #    }\n",
        "    #  }\n",
        "    #}\n",
        "    \n",
        "    nText = nSamples\n",
        "    li = np.asarray([1,2,3,4,5])\n",
        "    for i in range(nText):\n",
        "        np.random.shuffle(li)\n",
        "        surrText = F2Text(li,topK)\n",
        "        data1 = {\"index\":{\"_id\":i+1}}\n",
        "\n",
        "        data2 = {\n",
        "          \"text\": surrText,\n",
        "          \"image\": \"ImagePath_\"+str(i+1),\n",
        "        }\n",
        "\n",
        "        with open(filename,'a') as f: \n",
        "            json.dump(data1, f)\n",
        "            f.write('\\n')\n",
        "            json.dump(data2, f)\n",
        "            f.write('\\n')"
      ],
      "execution_count": null,
      "outputs": []
    },
    {
      "cell_type": "code",
      "metadata": {
        "id": "Z_OfgEL1UsvE",
        "outputId": "8aa58c8a-00ad-432e-8312-92ea8935ddf0",
        "colab": {
          "base_uri": "https://localhost:8080/",
          "height": 34
        }
      },
      "source": [
        "surrText = F2Text(f,topk)\n",
        "print(surrText)"
      ],
      "execution_count": null,
      "outputs": [
        {
          "output_type": "stream",
          "text": [
            "RO4 RO4 RO4 RO4 RO3 RO3 RO3 RO2 RO2 RO1\n"
          ],
          "name": "stdout"
        }
      ]
    },
    {
      "cell_type": "code",
      "metadata": {
        "id": "T0ULDQDndZus"
      },
      "source": [
        "#getElasticData(f,topk)"
      ],
      "execution_count": null,
      "outputs": []
    },
    {
      "cell_type": "code",
      "metadata": {
        "id": "KhpX1n0pem5V"
      },
      "source": [
        "#genFakeData(15,topk)"
      ],
      "execution_count": null,
      "outputs": []
    }
  ]
}